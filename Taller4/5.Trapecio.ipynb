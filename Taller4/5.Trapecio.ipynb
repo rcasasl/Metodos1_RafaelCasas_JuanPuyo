{
 "cells": [
  {
   "cell_type": "code",
   "execution_count": 104,
   "id": "b33d8a03",
   "metadata": {},
   "outputs": [],
   "source": [
    "import numpy as np\n",
    "import matplotlib.pyplot as plt\n",
    "from scipy import integrate"
   ]
  },
  {
   "cell_type": "code",
   "execution_count": 105,
   "id": "36e68ca7",
   "metadata": {},
   "outputs": [],
   "source": [
    "class Integrator:\n",
    "    def __init__(self, x,y):\n",
    "        \n",
    "        self.x = x\n",
    "        self.y = y\n",
    "        self.h = self.x[1] - self.x[0]\n",
    "        \n",
    "        self.integral = 0.\n",
    "     \n",
    "    def Trapezoid(self):\n",
    "        \n",
    "        self.integral = 0.\n",
    "        \n",
    "        self.integral += 0.5*(self.y[0] + self.y[-1])\n",
    "        \n",
    "        self.integral += np.sum( self.y[1:-1] )\n",
    "        \n",
    "        return self.integral*self.h\n",
    "    \n",
    "    def TrapError(self,f):\n",
    "        \n",
    "        d = (f( self.x + self.h ) - 2*f(self.x) + f(self.x-self.h))/self.h**2\n",
    "        \n",
    "        max_ = np.max(np.abs(d))\n",
    "        \n",
    "        self.error = (max_*(self.x[-1]-self.x[0])**3)/(12*(len(self.x)-1)**2)\n",
    "        \n",
    "        return self.error"
   ]
  },
  {
   "cell_type": "code",
   "execution_count": 106,
   "id": "8d334c04",
   "metadata": {},
   "outputs": [],
   "source": [
    "f = lambda x: (np.e)**(-(x)**2)\n",
    "N = 6\n",
    "x = np.linspace(0,1,N+1)\n",
    "y = f(x)"
   ]
  },
  {
   "cell_type": "code",
   "execution_count": 107,
   "id": "40a302b0",
   "metadata": {},
   "outputs": [
    {
     "data": {
      "text/plain": [
       "<matplotlib.collections.PathCollection at 0x26470c0e460>"
      ]
     },
     "execution_count": 107,
     "metadata": {},
     "output_type": "execute_result"
    },
    {
     "data": {
      "image/png": "[encoded data removed]",
      "text/plain": [
       "<Figure size 432x288 with 1 Axes>"
      ]
     },
     "metadata": {
      "needs_background": "light"
     },
     "output_type": "display_data"
    }
   ],
   "source": [
    "plt.scatter(x,y,color='red')"
   ]
  },
  {
   "cell_type": "code",
   "execution_count": 108,
   "id": "0078c348",
   "metadata": {},
   "outputs": [],
   "source": [
    "int1 = Integrator(x,y)"
   ]
  },
  {
   "cell_type": "code",
   "execution_count": 109,
   "id": "2e98dd15",
   "metadata": {},
   "outputs": [
    {
     "data": {
      "text/plain": [
       "0.7451194124361793"
      ]
     },
     "execution_count": 109,
     "metadata": {},
     "output_type": "execute_result"
    }
   ],
   "source": [
    "int1.Trapezoid()"
   ]
  },
  {
   "cell_type": "code",
   "execution_count": 110,
   "id": "b4cc92ba",
   "metadata": {},
   "outputs": [
    {
     "data": {
      "text/plain": [
       "0.004565920480608619"
      ]
     },
     "execution_count": 110,
     "metadata": {},
     "output_type": "execute_result"
    }
   ],
   "source": [
    "int1.TrapError(f)"
   ]
  }
 ],
 "metadata": {
  "kernelspec": {
   "display_name": "Python 3 (ipykernel)",
   "language": "python",
   "name": "python3"
  },
  "language_info": {
   "codemirror_mode": {
    "name": "ipython",
    "version": 3
   },
   "file_extension": ".py",
   "mimetype": "text/x-python",
   "name": "python",
   "nbconvert_exporter": "python",
   "pygments_lexer": "ipython3",
   "version": "3.8.8"
  }
 },
 "nbformat": 4,
 "nbformat_minor": 5
}
