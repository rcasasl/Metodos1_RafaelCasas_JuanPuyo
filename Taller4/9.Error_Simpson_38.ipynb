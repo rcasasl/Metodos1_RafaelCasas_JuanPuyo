{
  "metadata": {
    "language_info": {
      "codemirror_mode": {
        "name": "python",
        "version": 3
      },
      "file_extension": ".py",
      "mimetype": "text/x-python",
      "name": "python",
      "nbconvert_exporter": "python",
      "pygments_lexer": "ipython3",
      "version": "3.8"
    },
    "kernelspec": {
      "name": "python",
      "display_name": "Python (Pyodide)",
      "language": "python"
    }
  },
  "nbformat_minor": 4,
  "nbformat": 4,
  "cells": [
    {
      "cell_type": "code",
      "source": "import numpy as np\nimport matplotlib.pyplot as plt\nimport sympy as sym\nfrom sympy.abc import h",
      "metadata": {
        "trusted": true
      },
      "execution_count": 2,
      "outputs": []
    },
    {
      "cell_type": "code",
      "source": "o= sym.Array([0,(h),(2*h),3*h])\n#h= (b-a)/3\nn=3\nx= sym.Symbol(\"x\",Real=True)\nxi= sym.Symbol(r\"\\xi\")\nf= sym.Function(\"f\", Real=True)(xi)\ng= sym.Function(\"g\", Real=True)\n\ng= (x-o[0])*(x-o[1])*(x-o[2])*(x-o[3])\n\ng",
      "metadata": {
        "trusted": true
      },
      "execution_count": 52,
      "outputs": [
        {
          "execution_count": 52,
          "output_type": "execute_result",
          "data": {
            "text/plain": "x*(-3*h + x)*(-2*h + x)*(-h + x)",
            "text/latex": "$\\displaystyle x \\left(- 3 h + x\\right) \\left(- 2 h + x\\right) \\left(- h + x\\right)$"
          },
          "metadata": {}
        }
      ]
    },
    {
      "cell_type": "code",
      "source": "int_= sym.integrate(g,(x,o[0],o[-1]))\n\nprint(int_)\n\nDer=sym.Derivative(f,x,4)\nint_ *= Der/np.math.factorial(4)\n\"\"\"\nxi es el valor en el que se maximiza la cuarta derivada\n\"\"\"\nint_",
      "metadata": {
        "trusted": true
      },
      "execution_count": 54,
      "outputs": [
        {
          "name": "stdout",
          "text": "-9*h**5/10\n",
          "output_type": "stream"
        },
        {
          "execution_count": 54,
          "output_type": "execute_result",
          "data": {
            "text/plain": "-3*h**5*Derivative(f(\\xi), (x, 4))/80",
            "text/latex": "$\\displaystyle - \\frac{3 h^{5} \\frac{d^{4}}{d x^{4}} f{\\left(\\xi \\right)}}{80}$"
          },
          "metadata": {}
        }
      ]
    },
    {
      "cell_type": "code",
      "source": "",
      "metadata": {},
      "execution_count": null,
      "outputs": []
    }
  ]
}