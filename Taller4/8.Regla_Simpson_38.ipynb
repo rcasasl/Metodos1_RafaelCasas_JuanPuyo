{
  "metadata": {
    "language_info": {
      "codemirror_mode": {
        "name": "python",
        "version": 3
      },
      "file_extension": ".py",
      "mimetype": "text/x-python",
      "name": "python",
      "nbconvert_exporter": "python",
      "pygments_lexer": "ipython3",
      "version": "3.8"
    },
    "kernelspec": {
      "name": "python",
      "display_name": "Python (Pyodide)",
      "language": "python"
    }
  },
  "nbformat_minor": 4,
  "nbformat": 4,
  "cells": [
    {
      "cell_type": "code",
      "source": "import numpy as np\nimport matplotlib.pyplot as plt\nimport sympy as sym\nfrom sympy.abc import h",
      "metadata": {
        "trusted": true
      },
      "execution_count": 24,
      "outputs": []
    },
    {
      "cell_type": "code",
      "source": "o= sym.Array([0,(h),(2*h),3*h])\n#h= (b-a)/3\nn=3\nx= sym.Symbol(\"x\",Real=True)\nf= sym.Function(\"f\", Real=True)\ndef Cardinal(x,h,o,i):\n    \n    \n    \n    \n    prod= 1\n\n    for j in range(n+1):\n        if j != i:\n            prod *= (x-o[j])/(o[i]-o[j])\n                \n        \n        \n    #p= sym.lambdify([x],Sum,\"numpy\")\n    #int_=sym.integrate(sym.simplify(Sum),(x,a,b))\n    return sym.simplify(prod)\nL_1=Cardinal(x,h,o,1)\nprint(L_1)\nL_1",
      "metadata": {
        "trusted": true
      },
      "execution_count": 25,
      "outputs": [
        {
          "name": "stdout",
          "text": "x*(2*h - x)*(3*h - x)/(2*h**3)\n",
          "output_type": "stream"
        },
        {
          "execution_count": 25,
          "output_type": "execute_result",
          "data": {
            "text/plain": "x*(2*h - x)*(3*h - x)/(2*h**3)",
            "text/latex": "$\\displaystyle \\frac{x \\left(2 h - x\\right) \\left(3 h - x\\right)}{2 h^{3}}$"
          },
          "metadata": {}
        }
      ]
    },
    {
      "cell_type": "code",
      "source": "def Peso(L_i,x,a,b):\n    int_= sym.integrate(L_i,(x,a,b))\n    return sym.factor(sym.simplify(int_))\nPeso(L_1,x,o[0],o[-1])",
      "metadata": {
        "trusted": true
      },
      "execution_count": 33,
      "outputs": [
        {
          "execution_count": 33,
          "output_type": "execute_result",
          "data": {
            "text/plain": "9*h/8",
            "text/latex": "$\\displaystyle \\frac{9 h}{8}$"
          },
          "metadata": {}
        }
      ]
    },
    {
      "cell_type": "code",
      "source": "Integral= 0\nfor i in range(len(o)):\n    Integral += f(o[i])*Peso(Cardinal(x,h,o,i),x,o[0],o[-1])\n    \nsym.factor(Integral)",
      "metadata": {
        "trusted": true
      },
      "execution_count": 32,
      "outputs": [
        {
          "execution_count": 32,
          "output_type": "execute_result",
          "data": {
            "text/plain": "3*h*(f(0) + 3*f(h) + 3*f(2*h) + f(3*h))/8",
            "text/latex": "$\\displaystyle \\frac{3 h \\left(f{\\left(0 \\right)} + 3 f{\\left(h \\right)} + 3 f{\\left(2 h \\right)} + f{\\left(3 h \\right)}\\right)}{8}$"
          },
          "metadata": {}
        }
      ]
    },
    {
      "cell_type": "code",
      "source": "",
      "metadata": {},
      "execution_count": null,
      "outputs": []
    }
  ]
}