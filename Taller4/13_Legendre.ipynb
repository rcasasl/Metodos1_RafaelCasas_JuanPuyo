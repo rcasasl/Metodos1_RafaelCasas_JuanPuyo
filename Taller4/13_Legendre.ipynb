{
 "cells": [
  {
   "cell_type": "code",
   "execution_count": 41,
   "id": "16b1de62",
   "metadata": {},
   "outputs": [],
   "source": [
    "import numpy as np\n",
    "import matplotlib.pyplot as plt\n",
    "import sympy as sym"
   ]
  },
  {
   "cell_type": "code",
   "execution_count": 42,
   "id": "531f50d3",
   "metadata": {},
   "outputs": [],
   "source": [
    "def GetNewtonMethod(f,df,xn,itmax = 100000, precision=1e-12):\n",
    "    \n",
    "    error = 1.\n",
    "    it = 0\n",
    "    \n",
    "    while error > precision and it < itmax:\n",
    "        \n",
    "        try:\n",
    "            \n",
    "            xn1 = xn - f(xn)/df(xn)\n",
    "            \n",
    "           # error = np.abs( (xn1-xn) )\n",
    "            error = np.abs(f(xn)/df(xn))\n",
    "        \n",
    "        except ZeroDivisionError:\n",
    "            print(\"zero division\")\n",
    "            \n",
    "        xn  = xn1\n",
    "        it += 1\n",
    "    \n",
    "    #print('Raiz:',xn,it)\n",
    "    \n",
    "    if it == itmax:\n",
    "        return False\n",
    "    else:\n",
    "        return xn\n"
   ]
  },
  {
   "cell_type": "code",
   "execution_count": 43,
   "id": "23595924",
   "metadata": {},
   "outputs": [],
   "source": [
    "def GetAllRoots(f,df,x, tolerancia=9):\n",
    "    \n",
    "    Roots = np.array([])\n",
    "    \n",
    "    for i in x:\n",
    "        \n",
    "        root = GetNewtonMethod(f,df,i)\n",
    "          \n",
    "        if root != False:\n",
    "            \n",
    "            croot = np.round( root, tolerancia ) \n",
    "            \n",
    "            if croot not in Roots:\n",
    "                Roots = np.append( Roots, croot )\n",
    "                \n",
    "    # Ordenamos las raices\n",
    "    Roots.sort()\n",
    "    \n",
    "    return Roots"
   ]
  },
  {
   "cell_type": "code",
   "execution_count": 44,
   "id": "74ade48f",
   "metadata": {},
   "outputs": [],
   "source": [
    "def GetLegendre(n):\n",
    "    \n",
    "    x = sym.Symbol('x',Real=True)\n",
    "    y = sym.Symbol('y',Real=True)\n",
    "    \n",
    "    y = (x**2 - 1)**n\n",
    "    \n",
    "    p = sym.diff(y,x,n)/(2**n * np.math.factorial(n))\n",
    "    \n",
    "    return p"
   ]
  },
  {
   "cell_type": "code",
   "execution_count": 45,
   "id": "a34cc999",
   "metadata": {},
   "outputs": [
    {
     "data": {
      "text/latex": [
       "$\\displaystyle \\frac{3 x^{2} - 1}{2}$"
      ],
      "text/plain": [
       "(3*x**2 - 1)/2"
      ]
     },
     "execution_count": 45,
     "metadata": {},
     "output_type": "execute_result"
    }
   ],
   "source": [
    "GetLegendre(2)"
   ]
  },
  {
   "cell_type": "code",
   "execution_count": 46,
   "id": "4661d0da",
   "metadata": {},
   "outputs": [],
   "source": [
    "Legendre = []\n",
    "DerLegendre = []\n",
    "\n",
    "x = sym.Symbol('x',Real=True)\n",
    "n=2\n",
    "\n",
    "for i in range(n+1):\n",
    "    \n",
    "    poly = GetLegendre(i)\n",
    "    \n",
    "    Legendre.append(poly)\n",
    "    DerLegendre.append(sym.diff(poly,x,1))"
   ]
  },
  {
   "cell_type": "code",
   "execution_count": 47,
   "id": "ff3349ec",
   "metadata": {
    "scrolled": false
   },
   "outputs": [
    {
     "data": {
      "text/plain": [
       "[1, x, (3*x**2 - 1)/2]"
      ]
     },
     "execution_count": 47,
     "metadata": {},
     "output_type": "execute_result"
    }
   ],
   "source": [
    "Legendre"
   ]
  },
  {
   "cell_type": "code",
   "execution_count": 48,
   "id": "7b72c4c8",
   "metadata": {},
   "outputs": [],
   "source": [
    "#Planteamos un sistema de ecuaciones igualando el valor de cada componente al valor que debe tener en la ecuacion inicial.\n",
    "#Donde 3 + 5x + x**2 = C1P0(x)+C2P1(x)+C3P2(x)\n",
    "#Por lo que, sabemos que:\n",
    "#                        3 = C1-C3/2\n",
    "#                        5 = C2\n",
    "#                        1 = 3*C3/2\n",
    "matriz = [[1,0,-1/2],[0,0,3/2],[0,1,0]]\n",
    "vector =[3,1,5]"
   ]
  },
  {
   "cell_type": "code",
   "execution_count": 49,
   "id": "e56fd298",
   "metadata": {},
   "outputs": [
    {
     "data": {
      "text/plain": [
       "array([3.33333333, 5.        , 0.66666667])"
      ]
     },
     "execution_count": 49,
     "metadata": {},
     "output_type": "execute_result"
    }
   ],
   "source": [
    "resp = np.linalg.solve(matriz,vector)\n",
    "resp"
   ]
  },
  {
   "cell_type": "code",
   "execution_count": 50,
   "id": "7065ecc0",
   "metadata": {},
   "outputs": [
    {
     "data": {
      "text/latex": [
       "$\\displaystyle 1.0 x^{2} + 5.0 x + 3.0$"
      ],
      "text/plain": [
       "1.0*x**2 + 5.0*x + 3.0"
      ]
     },
     "execution_count": 50,
     "metadata": {},
     "output_type": "execute_result"
    }
   ],
   "source": [
    "poly = resp[0]*GetLegendre(0)+resp[1]*GetLegendre(1)+resp[2]*GetLegendre(2)\n",
    "poly"
   ]
  },
  {
   "cell_type": "code",
   "execution_count": 51,
   "id": "fdac4c9f",
   "metadata": {},
   "outputs": [
    {
     "data": {
      "text/plain": [
       "'\\nLa respuesta seria que el polinomio se escribiria en base de Legendre como, 10/3*P0(x) + 5P1(x) + 2/3*P2(x)\\n\\n'"
      ]
     },
     "execution_count": 51,
     "metadata": {},
     "output_type": "execute_result"
    }
   ],
   "source": [
    "\"\"\"\n",
    "La respuesta seria que el polinomio se escribiria en base de Legendre como, 10/3*P0(x) + 5P1(x) + 2/3*P2(x)\n",
    "\n",
    "\"\"\""
   ]
  }
 ],
 "metadata": {
  "kernelspec": {
   "display_name": "Python 3 (ipykernel)",
   "language": "python",
   "name": "python3"
  },
  "language_info": {
   "codemirror_mode": {
    "name": "ipython",
    "version": 3
   },
   "file_extension": ".py",
   "mimetype": "text/x-python",
   "name": "python",
   "nbconvert_exporter": "python",
   "pygments_lexer": "ipython3",
   "version": "3.8.8"
  }
 },
 "nbformat": 4,
 "nbformat_minor": 5
}
