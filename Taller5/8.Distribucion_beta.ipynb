{
 "cells": [
  {
   "cell_type": "code",
   "execution_count": 128,
   "id": "71a86a62",
   "metadata": {},
   "outputs": [],
   "source": [
    "%matplotlib notebook\n",
    "import matplotlib.pyplot as plt\n",
    "import numpy as np\n",
    "from tqdm import tqdm\n",
    "from mpl_toolkits.mplot3d import axes3d"
   ]
  },
  {
   "cell_type": "code",
   "execution_count": 129,
   "id": "30da1384",
   "metadata": {},
   "outputs": [],
   "source": [
    "def f(x,alpha,beta):\n",
    "    return ((np.math.factorial(alpha+beta-1))/(np.math.factorial(alpha-1)*np.math.factorial(beta-1)))*(x**(alpha-1))*((1-x)**(beta-1))"
   ]
  },
  {
   "cell_type": "code",
   "execution_count": 130,
   "id": "4574ece9",
   "metadata": {},
   "outputs": [],
   "source": [
    "def GenerarPuntos(min_,max_):   \n",
    "    x_1 = np.random.uniform(min_,max_)\n",
    "    x_2 = np.array([])\n",
    "    a = 2\n",
    "    b = 4\n",
    "    y_1 = np.random.uniform(0,np.max(f(x_1,a,b)))\n",
    "    \n",
    "    if y_1 < f(x_1,a,b):\n",
    "        x_2 = np.append(x_2,x_1)\n",
    "        \n",
    "    return x_2,a,b"
   ]
  },
  {
   "cell_type": "code",
   "execution_count": 131,
   "id": "7ea9a736",
   "metadata": {},
   "outputs": [
    {
     "name": "stderr",
     "output_type": "stream",
     "text": [
      "100%|██████████| 10000/10000 [00:00<00:00, 43619.97it/s]\n"
     ]
    }
   ],
   "source": [
    "N=1e4\n",
    "muestra=np.zeros(int(N))\n",
    "for i in tqdm(range(int(N))):\n",
    "    x,alpha,beta = GenerarPuntos(0,1)\n",
    "    sum_ = f(x,alpha,beta)\n",
    "    muestra[i]=sum_"
   ]
  },
  {
   "cell_type": "code",
   "execution_count": 132,
   "id": "ff8724f0",
   "metadata": {},
   "outputs": [],
   "source": [
    "Incertidumbre = (1/(np.sqrt(N)))*100"
   ]
  },
  {
   "cell_type": "code",
   "execution_count": 133,
   "id": "784a8516",
   "metadata": {},
   "outputs": [],
   "source": [
    "Integral = (np.average(muestra))"
   ]
  },
  {
   "cell_type": "code",
   "execution_count": 134,
   "id": "8d373ee0",
   "metadata": {},
   "outputs": [
    {
     "name": "stdout",
     "output_type": "stream",
     "text": [
      "El valor de la integral es igual a: 1.0092095201223268 con una incertidumbre de:  1.0 %\n"
     ]
    }
   ],
   "source": [
    "print('El valor de la integral es igual a:',Integral, 'con una incertidumbre de: ' , Incertidumbre,\"%\")"
   ]
  }
 ],
 "metadata": {
  "kernelspec": {
   "display_name": "Python 3 (ipykernel)",
   "language": "python",
   "name": "python3"
  },
  "language_info": {
   "codemirror_mode": {
    "name": "ipython",
    "version": 3
   },
   "file_extension": ".py",
   "mimetype": "text/x-python",
   "name": "python",
   "nbconvert_exporter": "python",
   "pygments_lexer": "ipython3",
   "version": "3.8.8"
  }
 },
 "nbformat": 4,
 "nbformat_minor": 5
}
