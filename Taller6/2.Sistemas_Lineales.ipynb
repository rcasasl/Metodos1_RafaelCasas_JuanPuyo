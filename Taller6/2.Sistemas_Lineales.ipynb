{
 "cells": [
  {
   "cell_type": "code",
   "execution_count": 7,
   "id": "47af5e4a",
   "metadata": {},
   "outputs": [],
   "source": [
    "import numpy as np\n",
    "import matplotlib.pyplot as plt\n",
    "from scipy import integrate"
   ]
  },
  {
   "cell_type": "code",
   "execution_count": 8,
   "id": "ef043c0a",
   "metadata": {},
   "outputs": [],
   "source": [
    "class Sistemas_Lineales:\n",
    "    \n",
    "    def __init__(self, matriz,vector):\n",
    "        \n",
    "        self.matriz = matriz\n",
    "        self.vector = vector\n",
    "    \n",
    "    def MetodoJacobi(self):\n",
    "\n",
    "        self.M,self.N = self.matriz.shape\n",
    "    \n",
    "        self.x = np.zeros(self.N)\n",
    "    \n",
    "        self.sumk = np.zeros_like(self.x)\n",
    "    \n",
    "        self.it = 0\n",
    "        \n",
    "        self.itmax = 1000\n",
    "        \n",
    "        self.error = 1e-10\n",
    "    \n",
    "        self.residuo = np.linalg.norm(self.vector - np.dot(self.matriz,self.x))\n",
    "        \n",
    "        while ( self.residuo > self.error and self.it < self.itmax):\n",
    "        \n",
    "            self.it += 1\n",
    "        \n",
    "            for i in range(self.M):\n",
    "                self.sum_ = 0\n",
    "            \n",
    "                for j in range(self.N):\n",
    "                    if i != j:\n",
    "                        self.sum_ += self.matriz[i][j]*self.x[j]\n",
    "                self.sumk[i] = self.sum_\n",
    "        \n",
    "            for i in range(self.M):\n",
    "                if self.matriz[i,i] != 0:\n",
    "                    self.x[i] = (self.vector[i] - self.sumk[i])/self.matriz[i,i]\n",
    "                else:\n",
    "                    print('No invertible por Jacobi')\n",
    "                    \n",
    "            self.residuo = np.linalg.norm(self.vector-np.dot(self.matriz,self.x))\n",
    "                \n",
    "\n",
    "        \n",
    "        return self.x,self.it\n",
    "    \n",
    "    \n",
    "    def Gauss_Seidel(self):\n",
    "        self.M,self.N = self.matriz.shape\n",
    "    \n",
    "        self.x = np.zeros(self.N)\n",
    "    \n",
    "        self.sumk = np.zeros_like(self.x)\n",
    "    \n",
    "        self.it = 0\n",
    "        \n",
    "        self.itmax = 1000\n",
    "        \n",
    "        self.error = 1e-10\n",
    "    \n",
    "        self.residuo = np.linalg.norm(self.vector - np.dot(self.matriz,self.x))\n",
    "        \n",
    "        while ( self.residuo > self.error and self.it < self.itmax):\n",
    "        \n",
    "            self.it += 1\n",
    "        \n",
    "            for i in range(self.M):\n",
    "                self.sum_ = 0\n",
    "            \n",
    "                for j in range(self.N):\n",
    "                    if i != j:\n",
    "                        self.sum_ += self.matriz[i][j]*self.x[j]\n",
    "                self.x[i] = (self.vector[i]-self.sum_)/(self.matriz[i][i])\n",
    "                \n",
    "            self.residuo = np.linalg.norm(self.vector-np.dot(self.matriz,self.x))\n",
    "        \n",
    "        return self.x,self.it"
   ]
  },
  {
   "cell_type": "code",
   "execution_count": 9,
   "id": "4acd2698",
   "metadata": {},
   "outputs": [],
   "source": [
    "M = np.array([[3,-1,-1],[-1.,3.,1.],[2,1,4]])\n",
    "b = np.array([1.,3.,7.])"
   ]
  },
  {
   "cell_type": "code",
   "execution_count": 10,
   "id": "da120811",
   "metadata": {},
   "outputs": [],
   "source": [
    "int1 = Sistemas_Lineales(M,b)"
   ]
  },
  {
   "cell_type": "code",
   "execution_count": 11,
   "id": "e718feeb",
   "metadata": {
    "scrolled": false
   },
   "outputs": [
    {
     "data": {
      "text/plain": [
       "(array([1., 1., 1.]), 23)"
      ]
     },
     "execution_count": 11,
     "metadata": {},
     "output_type": "execute_result"
    }
   ],
   "source": [
    "int1.MetodoJacobi()"
   ]
  },
  {
   "cell_type": "code",
   "execution_count": 12,
   "id": "004cf322",
   "metadata": {
    "scrolled": true
   },
   "outputs": [
    {
     "data": {
      "text/plain": [
       "(array([1., 1., 1.]), 18)"
      ]
     },
     "execution_count": 12,
     "metadata": {},
     "output_type": "execute_result"
    }
   ],
   "source": [
    "int1.Gauss_Seidel()"
   ]
  }
 ],
 "metadata": {
  "kernelspec": {
   "display_name": "Python 3 (ipykernel)",
   "language": "python",
   "name": "python3"
  },
  "language_info": {
   "codemirror_mode": {
    "name": "ipython",
    "version": 3
   },
   "file_extension": ".py",
   "mimetype": "text/x-python",
   "name": "python",
   "nbconvert_exporter": "python",
   "pygments_lexer": "ipython3",
   "version": "3.8.8"
  }
 },
 "nbformat": 4,
 "nbformat_minor": 5
}
