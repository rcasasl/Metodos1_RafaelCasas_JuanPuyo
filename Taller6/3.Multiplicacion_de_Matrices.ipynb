{
 "cells": [
  {
   "cell_type": "code",
   "execution_count": 10,
   "id": "f54e127c",
   "metadata": {},
   "outputs": [],
   "source": [
    "import numpy as np"
   ]
  },
  {
   "cell_type": "code",
   "execution_count": 11,
   "id": "7244e02f",
   "metadata": {},
   "outputs": [],
   "source": [
    "def multiplicar_matrices(matriz1,matriz2):\n",
    "    \n",
    "    if len(matriz1[0]) == len(matriz2):\n",
    "        \n",
    "        matrizr = np.zeros((len(matriz1[0]),len(matriz2[1])))            \n",
    "        for i in range(len(matriz1)):\n",
    "            for j in range(len(matriz2[0])):\n",
    "                for k in range(len(matriz1[0])):\n",
    "                    matrizr[i][j] += matriz1[i][k]*matriz2[k][j]\n",
    "                    \n",
    "        return matrizr\n",
    "    else:\n",
    "        return none"
   ]
  },
  {
   "cell_type": "code",
   "execution_count": 12,
   "id": "0b2f2c09",
   "metadata": {},
   "outputs": [],
   "source": [
    "#Comprobacion:\n",
    "A=[[1,0,0],[5,1,0],[-2,3,1]]\n",
    "B=[[4,-2,1],[0,3,7],[0,0,2]]"
   ]
  },
  {
   "cell_type": "code",
   "execution_count": 13,
   "id": "62d2c2b1",
   "metadata": {},
   "outputs": [
    {
     "name": "stdout",
     "output_type": "stream",
     "text": [
      "[[ 4. -2.  1.]\n",
      " [20. -7. 12.]\n",
      " [-8. 13. 21.]]\n",
      "[[ 4 -2  1]\n",
      " [20 -7 12]\n",
      " [-8 13 21]]\n"
     ]
    }
   ],
   "source": [
    "print(multiplicar_matrices(A,B))\n",
    "print(np.dot(A,B))"
   ]
  },
  {
   "cell_type": "code",
   "execution_count": null,
   "id": "465e935d",
   "metadata": {},
   "outputs": [],
   "source": []
  }
 ],
 "metadata": {
  "kernelspec": {
   "display_name": "Python 3 (ipykernel)",
   "language": "python",
   "name": "python3"
  },
  "language_info": {
   "codemirror_mode": {
    "name": "ipython",
    "version": 3
   },
   "file_extension": ".py",
   "mimetype": "text/x-python",
   "name": "python",
   "nbconvert_exporter": "python",
   "pygments_lexer": "ipython3",
   "version": "3.8.8"
  }
 },
 "nbformat": 4,
 "nbformat_minor": 5
}
