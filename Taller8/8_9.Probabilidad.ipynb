{
 "cells": [
  {
   "cell_type": "code",
   "execution_count": 1,
   "id": "806b8427",
   "metadata": {},
   "outputs": [],
   "source": [
    "import numpy as np\n",
    "import matplotlib.pyplot as plt"
   ]
  },
  {
   "cell_type": "code",
   "execution_count": 2,
   "id": "0a721345",
   "metadata": {},
   "outputs": [],
   "source": [
    "#Ejercicio 8\n",
    "N = int(1e5)\n",
    "nmonedas = 4\n",
    "\n",
    "eventos = [-1,1] #sello = -1, cara = 1\n",
    "\n",
    "Sample = np.zeros((N,nmonedas))\n",
    "\n",
    "for i in range(N):\n",
    "    \n",
    "    exp = np.random.choice(eventos,nmonedas)\n",
    "    Sample[i] = exp"
   ]
  },
  {
   "cell_type": "code",
   "execution_count": 3,
   "id": "08f2d36d",
   "metadata": {},
   "outputs": [
    {
     "name": "stdout",
     "output_type": "stream",
     "text": [
      "0.3746\n"
     ]
    }
   ],
   "source": [
    "events = 0\n",
    "\n",
    "for i in range(len(Sample)):\n",
    "    \n",
    "    NCaras = 0\n",
    "    \n",
    "    for j in range(nmonedas):\n",
    "        \n",
    "        if Sample[i][j] == 1:\n",
    "            NCaras += 1\n",
    "            \n",
    "    if NCaras == 2:\n",
    "        events += 1\n",
    "print(events/N)"
   ]
  },
  {
   "cell_type": "code",
   "execution_count": 4,
   "id": "dfde8f1d",
   "metadata": {},
   "outputs": [
    {
     "name": "stdout",
     "output_type": "stream",
     "text": [
      "La probabilidad para las mondedas truncadas de p1: 0.04859999999999953\n",
      "La probabilidad para las mondedas truncadas de p2: 0.375\n"
     ]
    }
   ],
   "source": [
    "#Ejericio 9\n",
    "p1 = np.linspace(0.1,0.9)\n",
    "p2 = np.linspace(0.1,0.5)\n",
    "\n",
    "for i in range((len(p1))):\n",
    "    probabilidad1 = 0\n",
    "    probabilidad1 += 6*p1[i]**4 - 12*p1[i]**3 + 6*p1[i]**2\n",
    "\n",
    "\n",
    "for i in range((len(p2))):\n",
    "    probabilidad2 = 0\n",
    "    probabilidad2 += 6*p2[i]**4 - 12*p2[i]**3 + 6*p2[i]**2\n",
    "    \n",
    "print('La probabilidad para las mondedas truncadas de p1:', probabilidad1)\n",
    "print('La probabilidad para las mondedas truncadas de p2:', probabilidad2)\n",
    " "
   ]
  }
 ],
 "metadata": {
  "kernelspec": {
   "display_name": "Python 3 (ipykernel)",
   "language": "python",
   "name": "python3"
  },
  "language_info": {
   "codemirror_mode": {
    "name": "ipython",
    "version": 3
   },
   "file_extension": ".py",
   "mimetype": "text/x-python",
   "name": "python",
   "nbconvert_exporter": "python",
   "pygments_lexer": "ipython3",
   "version": "3.8.8"
  }
 },
 "nbformat": 4,
 "nbformat_minor": 5
}
