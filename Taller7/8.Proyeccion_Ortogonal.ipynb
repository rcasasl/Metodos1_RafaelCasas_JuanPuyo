{
 "cells": [
  {
   "cell_type": "code",
   "execution_count": 1,
   "id": "44d25426",
   "metadata": {},
   "outputs": [],
   "source": [
    "import numpy as np\n",
    "import matplotlib.pyplot as plt\n",
    "import sympy as sym"
   ]
  },
  {
   "cell_type": "code",
   "execution_count": 2,
   "id": "12d2c601",
   "metadata": {},
   "outputs": [
    {
     "data": {
      "text/plain": [
       "array([-2.,  3.,  4.,  0.])"
      ]
     },
     "execution_count": 2,
     "metadata": {},
     "output_type": "execute_result"
    }
   ],
   "source": [
    "#Parte a\n",
    "A = [[3,1,-1],[1,2,0],[0,1,2],[1,1,-1]]\n",
    "b = [-3,-3,8,9]\n",
    "A = np.array(A)\n",
    "AT = np.dot(A.T,A)\n",
    "bT = A.T @ b \n",
    "xsol = np.linalg.solve(AT,bT)\n",
    "proy = np.dot(A,xsol)\n",
    "proy"
   ]
  },
  {
   "cell_type": "code",
   "execution_count": 3,
   "id": "1d0d6118",
   "metadata": {},
   "outputs": [
    {
     "name": "stdout",
     "output_type": "stream",
     "text": [
      "[-2.00000000e+00  3.00000000e+00  4.00000000e+00  2.22044605e-16]\n"
     ]
    }
   ],
   "source": [
    "#Parte b\n",
    "u1 = [3,1,0,1]\n",
    "u2 = [1,2,1,1]\n",
    "u3 = [-1,0,2,-1]\n",
    "u1 = np.array(u1)\n",
    "u2 = np.array(u2)\n",
    "u3 = np.array(u3)\n",
    "\n",
    "v1 = u1\n",
    "v1 = v1/np.linalg.norm(v1)\n",
    "v2 = u2 - (np.dot(u2,v1)/(np.linalg.norm(v1)**2))*v1\n",
    "v2 = v2/np.linalg.norm(v2)\n",
    "v3 = u3 - (np.dot(u3,v1)/(np.dot(v1,v1)))*v1 - (np.dot(u3,v2)/(np.dot(v2,v2)))*v2\n",
    "v3 = v3/np.linalg.norm(v3)\n",
    "\n",
    "c1 = np.dot(b,v1)\n",
    "c2 = np.dot(b,v2)\n",
    "c3 = np.dot(b,v3)\n",
    "\n",
    "proyb = c1*v1 + c2*v2 + c3*v3\n",
    "print(proyb)\n",
    "    "
   ]
  }
 ],
 "metadata": {
  "kernelspec": {
   "display_name": "Python 3 (ipykernel)",
   "language": "python",
   "name": "python3"
  },
  "language_info": {
   "codemirror_mode": {
    "name": "ipython",
    "version": 3
   },
   "file_extension": ".py",
   "mimetype": "text/x-python",
   "name": "python",
   "nbconvert_exporter": "python",
   "pygments_lexer": "ipython3",
   "version": "3.8.8"
  }
 },
 "nbformat": 4,
 "nbformat_minor": 5
}
