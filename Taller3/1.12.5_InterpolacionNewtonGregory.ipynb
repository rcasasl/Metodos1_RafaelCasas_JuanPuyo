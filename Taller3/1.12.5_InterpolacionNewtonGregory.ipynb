{
 "cells": [
  {
   "cell_type": "code",
   "execution_count": 461,
   "id": "86009921",
   "metadata": {},
   "outputs": [],
   "source": [
    "import numpy as np\n",
    "import matplotlib.pyplot as plt\n",
    "from matplotlib import rc\n",
    "import pandas as pd\n",
    "import sympy as sym\n",
    "import os.path as path\n",
    "import urllib.request as urll"
   ]
  },
  {
   "cell_type": "code",
   "execution_count": 462,
   "id": "2cafaa9a",
   "metadata": {},
   "outputs": [
    {
     "name": "stdout",
     "output_type": "stream",
     "text": [
      "--File found---\n"
     ]
    }
   ],
   "source": [
    "url = 'https://raw.githubusercontent.com/asegura4488/Database/main/MetodosComputacionalesReforma/InterpolacionNewtonNoequi.csv'\n",
    "filename = 'InterpolacionNewtonNoequi.csv'\n",
    "if not path.exists(filename):\n",
    "    Path = urll.urlretrieve(url, filename)\n",
    "else:\n",
    "    print('--File found---')\n",
    "    Path_ = filename"
   ]
  },
  {
   "cell_type": "code",
   "execution_count": 463,
   "id": "ce324939",
   "metadata": {},
   "outputs": [],
   "source": [
    "Data = pd.read_csv(Path_,sep=\",\")"
   ]
  },
  {
   "cell_type": "code",
   "execution_count": 464,
   "id": "a82720c7",
   "metadata": {},
   "outputs": [],
   "source": [
    "X = np.float64(Data['X'])\n",
    "Y = np.float64(Data['Y'])"
   ]
  },
  {
   "cell_type": "code",
   "execution_count": 465,
   "id": "100ecda0",
   "metadata": {},
   "outputs": [],
   "source": [
    "def NewtonGregory(X,Y,x):\n",
    "    \n",
    "    Sum_ = Y[0]\n",
    "    \n",
    "    Diff = np.zeros((len(X),len(Y)))\n",
    "    Diff[:,0] = Y\n",
    "            \n",
    "    poly = 1.0\n",
    "\n",
    "    for i in range(1,len(X)):\n",
    "        \n",
    "        poly *= ( x - X[i-1] )\n",
    "    \n",
    "        for j in range(i, len(X)):\n",
    "            h = X[j]-X\n",
    "            Diff[j,i] = (Diff[j,i-1]-Diff[j-1,i-1])/h[j-i]\n",
    "            \n",
    "        Sum_ += poly*(Diff[i,i])\n",
    "        \n",
    "        \n",
    "    return Sum_,np.round(Diff,2)\n",
    "   "
   ]
  },
  {
   "cell_type": "code",
   "execution_count": 466,
   "id": "84f95e94",
   "metadata": {
    "scrolled": true
   },
   "outputs": [],
   "source": [
    "x = np.linspace(np.min(X),np.max(X),200)\n",
    "y,_ = NewtonGregory(X,Y,x)"
   ]
  },
  {
   "cell_type": "code",
   "execution_count": 467,
   "id": "077fed12",
   "metadata": {},
   "outputs": [
    {
     "data": {
      "text/plain": [
       "[<matplotlib.lines.Line2D at 0x1bae94a56d0>]"
      ]
     },
     "execution_count": 467,
     "metadata": {},
     "output_type": "execute_result"
    },
    {
     "data": {
      "image/png": "[encoded data removed]",
      "text/plain": [
       "<Figure size 432x288 with 1 Axes>"
      ]
     },
     "metadata": {
      "needs_background": "light"
     },
     "output_type": "display_data"
    }
   ],
   "source": [
    "plt.scatter(X,Y,color='red')\n",
    "plt.plot(x,y)"
   ]
  },
  {
   "cell_type": "code",
   "execution_count": 468,
   "id": "6359cf3e",
   "metadata": {},
   "outputs": [],
   "source": [
    "x = sym.Symbol('x',Real='True')\n",
    "y,_ = NewtonGregory(X,Y,x)"
   ]
  },
  {
   "cell_type": "code",
   "execution_count": 469,
   "id": "d93999e8",
   "metadata": {},
   "outputs": [],
   "source": [
    "y = y.simplify()"
   ]
  },
  {
   "cell_type": "code",
   "execution_count": 470,
   "id": "3c8eb8ba",
   "metadata": {},
   "outputs": [
    {
     "data": {
      "text/latex": [
       "$\\displaystyle - 0.34145435774264 x^{5} + 5.84804869821673 x^{4} - 35.6998197753506 x^{3} + 89.657566164176 x^{2} - 68.8369730888011 x - 18.0$"
      ],
      "text/plain": [
       "-0.34145435774264*x**5 + 5.84804869821673*x**4 - 35.6998197753506*x**3 + 89.657566164176*x**2 - 68.8369730888011*x - 18.0"
      ]
     },
     "execution_count": 470,
     "metadata": {},
     "output_type": "execute_result"
    }
   ],
   "source": [
    "y"
   ]
  }
 ],
 "metadata": {
  "kernelspec": {
   "display_name": "Python 3 (ipykernel)",
   "language": "python",
   "name": "python3"
  },
  "language_info": {
   "codemirror_mode": {
    "name": "ipython",
    "version": 3
   },
   "file_extension": ".py",
   "mimetype": "text/x-python",
   "name": "python",
   "nbconvert_exporter": "python",
   "pygments_lexer": "ipython3",
   "version": "3.8.8"
  }
 },
 "nbformat": 4,
 "nbformat_minor": 5
}
